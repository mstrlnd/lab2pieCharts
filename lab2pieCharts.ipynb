{
 "cells": [
  {
   "cell_type": "code",
   "execution_count": null,
   "id": "ab70d20f-e102-4028-bc2a-e6970e0bd5b6",
   "metadata": {},
   "outputs": [],
   "source": [
    "#import python libraries for data analysis \n",
    "#I'm for loading data into data frames\n",
    "import pandas as pd \n",
    "#I'm for plotting data\n",
    "import seaborn as sns \n",
    "#I'm also for plotting data\n",
    "import matplotlib.pylab as plt"
   ]
  },
  {
   "cell_type": "code",
   "execution_count": null,
   "id": "1aaa4824-a247-4385-b64e-e016181a5156",
   "metadata": {},
   "outputs": [],
   "source": [
    "#load data\n",
    "df = pd.read_csv('cdc.csv')\n",
    "#number of rows of data and the number of variables - How many rows are there?  How many variables?\n",
    "df.shape"
   ]
  },
  {
   "cell_type": "code",
   "execution_count": null,
   "id": "579f5db9-0f09-4f28-a53c-573c67f361fd",
   "metadata": {},
   "outputs": [],
   "source": [
    "#preview the first 5 rows of data (some variables might get cut off)\n",
    "df.head()"
   ]
  },
  {
   "cell_type": "code",
   "execution_count": null,
   "id": "0cf80036-3590-4e00-98f0-afa74e9c8b03",
   "metadata": {},
   "outputs": [],
   "source": [
    "#List all the variables and check the datatypes.  \"object\" is categorical.  \"int64\" and \"float64\" are numerical \n",
    "df.dtypes"
   ]
  },
  {
   "cell_type": "code",
   "execution_count": null,
   "id": "8732121a-4ace-4ea0-bb32-6aa1c62089b8",
   "metadata": {},
   "outputs": [],
   "source": [
    "#Create a pie chart of eat_fruit\n",
    "data_values = df['eat_fruit'].value_counts()\n",
    "plt.pie(data_values, labels=data_values.index)"
   ]
  },
  {
   "cell_type": "code",
   "execution_count": null,
   "id": "c7d56867-7791-4648-ad50-a69375fe2677",
   "metadata": {},
   "outputs": [],
   "source": [
    "#Same pie chart with a title\n",
    "data_values = df['eat_fruit'].value_counts()\n",
    "plt.pie(data_values, labels=data_values.index)\n",
    "plt.title('How Often Teens Eat Fruit Per Week')"
   ]
  },
  {
   "cell_type": "code",
   "execution_count": null,
   "id": "4e562577-0e5f-4f6d-b874-3fe5d7c17e4a",
   "metadata": {},
   "outputs": [],
   "source": [
    "#Set the color palette of the pie chart above\n",
    "data_values = df['eat_fruit'].value_counts()\n",
    "plt.pie(data_values, labels=data_values.index, colors = sns.color_palette('pastel'))\n",
    "plt.title('How Often Teens Eat Fruit Per Week')"
   ]
  },
  {
   "cell_type": "code",
   "execution_count": null,
   "id": "865918bf-7666-4a1c-aacf-15e7a26c2f84",
   "metadata": {},
   "outputs": [],
   "source": []
  }
 ],
 "metadata": {
  "kernelspec": {
   "display_name": "Python 3 (ipykernel)",
   "language": "python",
   "name": "python3"
  },
  "language_info": {
   "codemirror_mode": {
    "name": "ipython",
    "version": 3
   },
   "file_extension": ".py",
   "mimetype": "text/x-python",
   "name": "python",
   "nbconvert_exporter": "python",
   "pygments_lexer": "ipython3",
   "version": "3.9.12"
  }
 },
 "nbformat": 4,
 "nbformat_minor": 5
}
